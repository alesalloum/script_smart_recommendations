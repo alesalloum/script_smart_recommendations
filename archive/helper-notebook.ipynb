{
 "cells": [
  {
   "cell_type": "code",
   "execution_count": 1,
   "source": [
    "from TC_helper_functions import * "
   ],
   "outputs": [],
   "metadata": {}
  },
  {
   "cell_type": "code",
   "execution_count": 2,
   "source": [
    "data_raw_dir = \"data/01_raw\"\r\n",
    "all_files = [filename for filename in os.listdir(data_raw_dir) if filename.endswith(\".csv\")]\r\n",
    "df_original = pd.concat((pd.read_csv(os.path.join(data_raw_dir, f)) for f in all_files))\r\n",
    "\r\n",
    "print(\"{} files have been loaded.\".format(len(all_files)))\r\n",
    "print(\"Number of tickets before any filtering: {}.\".format(len(df_original)))"
   ],
   "outputs": [
    {
     "output_type": "stream",
     "name": "stdout",
     "text": [
      "2 files have been loaded.\n",
      "Number of tickets before any filtering: 44257.\n"
     ]
    }
   ],
   "metadata": {}
  },
  {
   "cell_type": "code",
   "execution_count": 3,
   "source": [
    "# RESOLVED & NON-EVENT TICKETS\r\n",
    "df = df_original[df_original['Status'] == \"Resolved\"].copy()\r\n",
    "print(\"Number of resolved tickets: {}.\".format(len(df)))\r\n",
    "df = df[df['Labels'] != \"event\"]\r\n",
    "print(\"Number of non-event tickets: {}.\".format(len(df)))\r\n",
    "\r\n",
    "# SELECT ISSUE TYPE\r\n",
    "ISSUE_TYPE = \"Service Request\"\r\n",
    "\r\n",
    "print(\"Possible types of issues: {}.\".format(set(df[\"Issue Type\"])))\r\n",
    "df = df[df[\"Issue Type\"] == ISSUE_TYPE]\r\n",
    "print(\"\\nNumber of {} type of issues: {}.\".format(ISSUE_TYPE, len(df)))\r\n",
    "\r\n",
    "# REARRANGE\r\n",
    "df = df[['Reporter','Assignee', \"Custom field (Customer)\", \"Summary\", \"Description\", \"Created\", \"Resolved\"]]\r\n",
    "\r\n",
    "# DROP CRITC. NAN\r\n",
    "df = df.dropna(subset=['Summary', 'Description', 'Created', 'Resolved'])\r\n",
    "print(\"Number of tickets after removing samples with nan: {}.\".format(len(df)))\r\n",
    "\r\n",
    "# LABEL CRITICALITY\r\n",
    "SPAN_THRESHOLD = 7\r\n",
    "created_do = df['Created'].apply(convert_date)\r\n",
    "resolved_do = df[\"Resolved\"].apply(convert_date)\r\n",
    "df[\"Span\"] = [t.days for t in resolved_do-created_do]\r\n",
    "df['Critical'] = (df['Span'] > SPAN_THRESHOLD).astype(int)\r\n",
    "print(\"Number of tickets {}, of which {} ({:.2f}) are labeled critical.\".format(len(df), len(df[df[\"Critical\"]==1]), len(df[df[\"Critical\"]==1])/len(df)))\r\n",
    "df = df.reset_index(drop=True)\r\n",
    "\r\n",
    "# OPTIONAL: Select Customer\r\n",
    "#CUSTOMER = \"Efima (000)\"\r\n",
    "#df_EFIMA = df[df[\"Custom field (Customer)\"] == CUSTOMER].copy()\r\n",
    "#print(\"Number of tickets {}, of which {} ({:.2f}) are labeled critical for {}.\".format(len(df_EFIMA), len(df_EFIMA[df_EFIMA[\"Critical\"]==1]), len(df_EFIMA[df_EFIMA[\"Critical\"]==1])/len(df_EFIMA), CUSTOMER))\r\n",
    "#df_EFIMA = df_EFIMA.reset_index(drop=True)"
   ],
   "outputs": [
    {
     "output_type": "stream",
     "name": "stdout",
     "text": [
      "Number of resolved tickets: 43819.\n",
      "Number of non-event tickets: 13895.\n",
      "Possible types of issues: {'Service Request', 'System Error', 'Incident', 'Bug', 'Access', 'Task', 'Problem', 'Change Request'}.\n",
      "\n",
      "Number of Service Request type of issues: 12613.\n",
      "Number of tickets after removing samples with nan: 12534.\n",
      "Number of tickets 12534, of which 3522 (0.28) are labeled critical.\n"
     ]
    }
   ],
   "metadata": {}
  },
  {
   "cell_type": "code",
   "execution_count": 4,
   "source": [
    "# DEFINE & LOAD STOPWORDS\r\n",
    "data_stopwords_dir = \"data/02_auxiliary\"\r\n",
    "stopwords_set = load_stopwords(data_stopwords_dir, general=True, it=True, names=True)\r\n",
    "print(\"Number of stopwords loaded: {}.\".format(len(stopwords_set)))\r\n",
    "\r\n",
    "# RUN NLP-process\r\n",
    "dataset = df.copy()\r\n",
    "#dataset = df_EFIMA.copy()\r\n",
    "\r\n",
    "dataset[\"ProcessedWords\"] = dataset.apply(lambda x: remove_stopwords(get_nlp_processed_text(x.Summary, x.Description), stopwords_set), axis=1)\r\n",
    "dataset[\"ProcessedSentence\"] =  dataset.apply(lambda x: ' '.join(x.ProcessedWords), axis=1)\r\n",
    "#dataset['Language'] = dataset.apply(lambda x: detect_language(x.ProcessedSentence), axis=1)\r\n",
    "\r\n",
    "# KEEP FINNISH ONLY\r\n",
    "#dataset_fin = dataset[dataset[\"Language\"] == \"fi\"].reset_index(drop=True)\r\n",
    "#print(\"Number of Finnish tickets: {}.\".format(len(dataset_fin)))"
   ],
   "outputs": [
    {
     "output_type": "stream",
     "name": "stdout",
     "text": [
      "Number of stopwords loaded: 41100.\n"
     ]
    }
   ],
   "metadata": {}
  },
  {
   "cell_type": "code",
   "execution_count": 5,
   "source": [
    "# CONVERT TO BoW TYPE\r\n",
    "corpus = dataset.ProcessedSentence\r\n",
    "vectorizer, doc_term_mat = get_vectorization(corpus, min_df=3, max_ngram=2, freq_norm=False)\r\n",
    "\r\n",
    "# SAVE MODEL\r\n",
    "main_data_source = dataset.to_dict(orient=\"index\")\r\n",
    "save_model(main_data_source, vectorizer, doc_term_mat)"
   ],
   "outputs": [
    {
     "output_type": "stream",
     "name": "stdout",
     "text": [
      "Model correctly saved.\n"
     ]
    }
   ],
   "metadata": {}
  },
  {
   "cell_type": "code",
   "execution_count": null,
   "source": [
    "\r\n",
    "\r\n",
    "\r\n"
   ],
   "outputs": [],
   "metadata": {}
  },
  {
   "cell_type": "code",
   "execution_count": null,
   "source": [],
   "outputs": [],
   "metadata": {}
  }
 ],
 "metadata": {
  "orig_nbformat": 4,
  "language_info": {
   "name": "python",
   "version": "3.8.10",
   "mimetype": "text/x-python",
   "codemirror_mode": {
    "name": "ipython",
    "version": 3
   },
   "pygments_lexer": "ipython3",
   "nbconvert_exporter": "python",
   "file_extension": ".py"
  },
  "kernelspec": {
   "name": "python3",
   "display_name": "Python 3.8.10 64-bit"
  },
  "interpreter": {
   "hash": "c46ec430228bc6004e2ed86a1b934e7dab076b199bf4ca811c096f8a7778fe3c"
  }
 },
 "nbformat": 4,
 "nbformat_minor": 2
}